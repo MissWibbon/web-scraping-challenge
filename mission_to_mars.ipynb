{
 "cells": [
  {
   "cell_type": "code",
   "execution_count": 2,
   "metadata": {},
   "outputs": [],
   "source": [
    "# Dependencies\n",
    "from bs4 import BeautifulSoup\n",
    "import requests\n",
    "from splinter import Browser\n",
    "import pandas as pd"
   ]
  },
  {
   "cell_type": "code",
   "execution_count": 4,
   "metadata": {},
   "outputs": [],
   "source": [
    "executable_path = {'executable_path': 'chromedriver.exe'}\n",
    "browser = Browser('chrome', **executable_path, headless=False)"
   ]
  },
  {
   "cell_type": "code",
   "execution_count": 5,
   "metadata": {},
   "outputs": [],
   "source": [
    "url = 'https://mars.nasa.gov/news/'\n",
    "browser.visit(url)"
   ]
  },
  {
   "cell_type": "code",
   "execution_count": 34,
   "metadata": {},
   "outputs": [
    {
     "name": "stdout",
     "output_type": "stream",
     "text": [
      "A NASA Wallops Flight Facility cargo plane transported more than two tons of equipment — including the rover's sample collection tubes — to Florida for this summer's liftoff.\n"
     ]
    }
   ],
   "source": [
    "# HTML object\n",
    "html = browser.html\n",
    "# Parse HTML with Beautiful Soup\n",
    "soup = BeautifulSoup(html, 'html.parser')\n",
    "# Retrieve all elements that contain book information\n",
    "newsArticle = soup.find('li', class_='slide')\n",
    "newsTitle = newsArticle.find('h3').text\n",
    "newsDescription = newsArticle.find('div', class_='article_teaser_body').text\n",
    "\n",
    "print(newsDescription)"
   ]
  },
  {
   "cell_type": "code",
   "execution_count": 39,
   "metadata": {},
   "outputs": [],
   "source": [
    "# URL of page to be scraped\n",
    "url = 'https://www.jpl.nasa.gov/spaceimages/?search=&category=Mars'\n",
    "browser.visit(url)"
   ]
  },
  {
   "cell_type": "code",
   "execution_count": 62,
   "metadata": {},
   "outputs": [
    {
     "name": "stdout",
     "output_type": "stream",
     "text": [
      "['background-image:', \"url('/spaceimages/images/wallpaper/PIA18273-1920x1200.jpg');\"]\n"
     ]
    }
   ],
   "source": [
    "# HTML object\n",
    "html = browser.html\n",
    "# Parse HTML with Beautiful Soup\n",
    "soup = BeautifulSoup(html, 'html.parser')\n",
    "# Retrieve all elements that contain book information\n",
    "\n",
    "featuredMars = soup.find('article', class_='carousel_item')\n",
    "featuredMarsImg = featuredMars['style']\n",
    "featuredMarsImgslice = featuredMarsImg.split()\n",
    "#featured_image_url = url + \n",
    "print(featuredMarsImgslice)"
   ]
  },
  {
   "cell_type": "code",
   "execution_count": 6,
   "metadata": {},
   "outputs": [
    {
     "name": "stdout",
     "output_type": "stream",
     "text": [
      "{'_id': ObjectId('5db4785c3c72308e0ede0f93'), 'header': \"Blues, Bruins Cup Final rematch will be 'emotional game,' Berube says\", 'subheader': 'St. Louis coach, players embracing championship memories, Boston focused on two points', 'date': '2019-10-25'}\n",
      "{'_id': ObjectId('5db4785c3c72308e0ede0f94'), 'header': 'McDonald reminisces about playing hockey outdoors before Heritage Classic', 'subheader': 'Hockey Hall of Famer believes Flames game against Jets will be special for fans in Regina', 'date': '2019-10-26'}\n",
      "{'_id': ObjectId('5db4785c3c72308e0ede0f95'), 'header': 'Gudbranson traded to Ducks by Penguins', 'subheader': 'Pittsburgh receives forward Martinsen, seventh-round pick in 2021 NHL Draft', 'date': '2019-10-25'}\n",
      "{'_id': ObjectId('5db4785c3c72308e0ede0f96'), 'header': 'Dubnyk returns to practice with Wild, likely will miss one more game', 'subheader': 'Goalie not expected to play against Kings because of injury to side', 'date': '2019-10-25'}\n",
      "{'_id': ObjectId('5db4785c3c72308e0ede0f97'), 'header': 'NHL fantasy team power rankings for 2019-20', 'subheader': \"Kane's power-play impact has Sharks trending up; Bailey emerges as streaming option from Islanders\", 'date': '2019-10-25'}\n",
      "{'_id': ObjectId('5db4785c3c72308e0ede0f98'), 'header': 'Blues, Bruins to play in latest game between Stanley Cup finalists', 'subheader': 'St. Louis, Boston face off in regular season for first time since Game 7', 'date': '2019-10-26'}\n",
      "{'_id': ObjectId('5db4785c3c72308e0ede0f99'), 'header': 'Appleton breaks foot before Jets practice at Heritage Classic', 'subheader': 'Forward is injured during football catch with teammates at Mosaic Stadium, out at least four weeks', 'date': '2019-10-26'}\n",
      "{'_id': ObjectId('5db4785c3c72308e0ede0f9a'), 'header': \"Giordano, Flames pleased by 'pretty warm' forecast for Heritage Classic\", 'subheader': 'Captain recalls frigid conditions for outdoor game in Calgary in 2011', 'date': '2019-10-25'}\n",
      "{'_id': ObjectId('5db4785c3c72308e0ede0f9b'), 'header': 'Facts and Figures: Leddy secures spot in Islanders history', 'subheader': 'Becomes their first defenseman to score on penalty shot in victory at Senators', 'date': '2019-10-26'}\n",
      "{'_id': ObjectId('5db4785c3c72308e0ede0f9c'), 'header': 'Fantasy hockey top 200 rankings for 2019-20', 'subheader': 'Eichel joins first 25; Oshie gives Capitals six among 100 best; Burakovsky added to list after Rantanen injury', 'date': '2019-10-25'}\n",
      "{'_id': ObjectId('5db4785c3c72308e0ede0f9d'), 'header': 'Sasakamoose recalls historic hockey journey while meeting Bettman', 'subheader': \"NHL's first indigenous Canadian player expressed honor of having Heritage Classic in Saskatchewan\", 'date': '2019-10-26'}\n",
      "{'_id': ObjectId('5db4785c3c72308e0ede0f9e'), 'header': \"Tarasenko won't make weekend road trip for Blues with upper-body injury\", 'subheader': 'Forward will not travel for games against Bruins, Red Wings', 'date': '2019-10-25'}\n",
      "{'_id': ObjectId('5db4785c3c72308e0ede0f9f'), 'header': 'Morrissey relishing increased responsibility among Jets defensemen', 'subheader': '24-year-old now mentor to younger players as Winnipeg prepares for Heritage Classic', 'date': '2019-10-25'}\n",
      "{'_id': ObjectId('5db4785c3c72308e0ede0fa0'), 'header': 'Hawerchuk on minds during NHL Legacy Luncheon', 'subheader': 'Former Jets captain, member of Hockey Hall of Fame, has stomach cancer', 'date': '2019-10-25'}\n",
      "{'_id': ObjectId('5db4785c3c72308e0ede0fa1'), 'header': 'NHL DFS picks, projections, strategy', 'subheader': 'Thomas poised for bigger role with Blues after Tarasenko injury; more daily fantasy targets', 'date': '2019-10-26'}\n",
      "{'_id': ObjectId('5db4785c3c72308e0ede0fa2'), 'header': 'NHL, Flames, Jets unveil scholarship ahead of Heritage Classic', 'subheader': 'Legacy project to be awarded to students from University of Regina, University of Saskatchewan', 'date': '2019-10-25'}\n",
      "{'_id': ObjectId('5db4785c3c72308e0ede0fa3'), 'header': 'Blackhawks welcome boy who battled leukemia to practice', 'subheader': '12-year-old from Quebec will drop ceremonial puck during Chicago Hockey Fights Cancer night', 'date': '2019-10-25'}\n",
      "{'_id': ObjectId('5db4785c3c72308e0ede0fa4'), 'header': 'Dressed in Matthews jersey, Bieber fanboys out at Maple Leafs game', 'subheader': 'Superstar took in Toronto win behind team bench with dad', 'date': '2019-10-26'}\n",
      "{'_id': ObjectId('5db4785c3c72308e0ede0fa5'), 'header': '2019-20 NHL Trade Tracker', 'subheader': 'Official deals since June 14', 'date': '2019-10-25'}\n",
      "{'_id': ObjectId('5db4785c3c72308e0ede0fa6'), 'header': 'Fantasy goalie top 25 rankings for 2019-20', 'subheader': 'Coyotes, Islanders have best tandems; Jones trending down for Sharks', 'date': '2019-10-24'}\n",
      "{'_id': ObjectId('5db4785c3c72308e0ede0fa7'), 'header': 'Heritage Classic Diary: Mikael Backlund', 'subheader': 'Flames center discusses benefits of hard practice, rooming with wife, daughter on road', 'date': '2019-10-26'}\n",
      "{'_id': ObjectId('5db4785c3c72308e0ede0fa8'), 'header': 'Heritage Classic Diary: Bryan Little', 'subheader': 'Jets center tries to get used to outdoor surroundings, enjoys family skate with parents', 'date': '2019-10-26'}\n",
      "{'_id': ObjectId('5db4785c3c72308e0ede0fa9'), 'header': 'Perlini asks Blackhawks for trade', 'subheader': 'Forward has been scratched in seven of eight games this season', 'date': '2019-10-25'}\n",
      "{'_id': ObjectId('5db4785c3c72308e0ede0faa'), 'header': 'NHL Fantasy on Ice podcast available now', 'subheader': \"Buy-low, sell-high candidates, Hischier's return, weekend picks in new episode\", 'date': '2019-10-25'}\n",
      "{'_id': ObjectId('5db4785c3c72308e0ede0fab'), 'header': 'Oct. 26: Gretzky becomes first NHL player with 2,000 points', 'subheader': 'Plus: Lemieux scores 500th goal; Sabres win 10th straight game from start of season', 'date': '2019-10-26'}\n"
     ]
    }
   ],
   "source": [
    "# Display the MongoDB records created above\n",
    "articles = db.articles.find()\n",
    "for article in articles:\n",
    "    print(article)"
   ]
  }
 ],
 "metadata": {
  "kernelspec": {
   "display_name": "Python 3",
   "language": "python",
   "name": "python3"
  },
  "language_info": {
   "codemirror_mode": {
    "name": "ipython",
    "version": 3
   },
   "file_extension": ".py",
   "mimetype": "text/x-python",
   "name": "python",
   "nbconvert_exporter": "python",
   "pygments_lexer": "ipython3",
   "version": "3.7.4"
  },
  "varInspector": {
   "cols": {
    "lenName": 16,
    "lenType": 16,
    "lenVar": 40
   },
   "kernels_config": {
    "python": {
     "delete_cmd_postfix": "",
     "delete_cmd_prefix": "del ",
     "library": "var_list.py",
     "varRefreshCmd": "print(var_dic_list())"
    },
    "r": {
     "delete_cmd_postfix": ") ",
     "delete_cmd_prefix": "rm(",
     "library": "var_list.r",
     "varRefreshCmd": "cat(var_dic_list()) "
    }
   },
   "types_to_exclude": [
    "module",
    "function",
    "builtin_function_or_method",
    "instance",
    "_Feature"
   ],
   "window_display": false
  }
 },
 "nbformat": 4,
 "nbformat_minor": 2
}
